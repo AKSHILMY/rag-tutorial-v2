{
 "cells": [
  {
   "cell_type": "code",
   "execution_count": 1,
   "metadata": {},
   "outputs": [],
   "source": [
    "# https://github.com/weaviate/recipes/blob/main/weaviate-features/generative-search/generative_search_openai.ipynb"
   ]
  },
  {
   "cell_type": "code",
   "execution_count": 2,
   "metadata": {},
   "outputs": [],
   "source": [
    "# Docs : https://weaviate.io/developers/weaviate/client-libraries/python"
   ]
  },
  {
   "cell_type": "code",
   "execution_count": 3,
   "metadata": {},
   "outputs": [],
   "source": [
    "# Run `docker-compose up -d` for local deployment"
   ]
  },
  {
   "cell_type": "code",
   "execution_count": 4,
   "metadata": {},
   "outputs": [],
   "source": [
    "import os\n",
    "import sys\n",
    "sys.path.append(\"../..\")\n",
    "from utils import load_documents,split_documents,calculate_chunk_ids\n",
    "\n",
    "import weaviate"
   ]
  },
  {
   "cell_type": "code",
   "execution_count": 5,
   "metadata": {},
   "outputs": [],
   "source": [
    "EMBEDDING_MODEL = \"text-embedding-ada-002\""
   ]
  },
  {
   "cell_type": "code",
   "execution_count": 6,
   "metadata": {},
   "outputs": [
    {
     "name": "stderr",
     "output_type": "stream",
     "text": [
      "WARNING: All log messages before absl::InitializeLog() is called are written to STDERR\n",
      "I0000 00:00:1721828889.518331   10688 config.cc:230] gRPC experiments enabled: call_status_override_on_cancellation, event_engine_dns, event_engine_listener, http2_stats_fix, monitoring_experiment, pick_first_new, trace_record_callops, work_serializer_clears_time_cache\n"
     ]
    }
   ],
   "source": [
    "\n",
    "import weaviate, os\n",
    "\n",
    "# Connect to your local Weaviate instance deployed with Docker\n",
    "client = weaviate.connect_to_local(\n",
    "    headers={\n",
    "        \"X-OpenAI-Api-Key\": os.environ[\"OPENAI_APIKEY\"] # Replace with your Cohere key - recommended: use env var\n",
    "    }\n",
    ")\n",
    "\n",
    "# Option 2\n",
    "# Connect to your Weaviate Client Service cluster\n",
    "# client = weaviate.connect_to_wcs(\n",
    "#     cluster_url=\"WCS-CLUSTER-ID\",                             # Replace with your WCS cluster ID\n",
    "#     auth_credentials=weaviate.auth.AuthApiKey(\"WCS-API-KEY\"), # Replace with your WCS API KEY - recommended: use env var\n",
    "#     headers={\n",
    "#         \"X-OpenAI-Api-Key\": os.getenv(\"OPENAI-API-KEY\"),      # Replace with your inference API key - recommended: use env var\n",
    "#     }\n",
    "# )\n"
   ]
  },
  {
   "cell_type": "code",
   "execution_count": 7,
   "metadata": {},
   "outputs": [
    {
     "data": {
      "text/plain": [
       "True"
      ]
     },
     "execution_count": 7,
     "metadata": {},
     "output_type": "execute_result"
    }
   ],
   "source": [
    "client.is_ready()"
   ]
  },
  {
   "cell_type": "code",
   "execution_count": 8,
   "metadata": {},
   "outputs": [
    {
     "name": "stdout",
     "output_type": "stream",
     "text": [
      "Successfully created collection: Chunk.\n"
     ]
    }
   ],
   "source": [
    "# Note: in practice, you shouldn\"t rerun this cell, as it deletes your data\n",
    "# in \"JeopardyQuestion\", and then you need to re-import it again.\n",
    "import weaviate.classes.config as wc\n",
    "\n",
    "# Delete the collection if it already exists\n",
    "if (client.collections.exists(\"Chunk\")):\n",
    "    client.collections.delete(\"Chunk\")\n",
    "\n",
    "client.collections.create(\n",
    "    name=\"Chunk\",\n",
    "\n",
    "    vectorizer_config=wc.Configure.Vectorizer.text2vec_openai( # specify the vectorizer and model type you're using\n",
    "        model=\"ada\",\n",
    "        model_version=\"002\",\n",
    "        type_=\"text\"\n",
    "    ),\n",
    "\n",
    "    # Enable generative model from Cohere\n",
    "    generative_config=wc.Configure.Generative.openai(\n",
    "        model=\"gpt-3.5-turbo\"  # Optional - Defaults to `gpt-3.5-turbo`\n",
    "    ),\n",
    "\n",
    "    properties=[ # defining properties (data schema) is optional\n",
    "        wc.Property(name=\"chunk_id\", data_type=wc.DataType.TEXT,skip_vectorization=True), \n",
    "        wc.Property(name=\"context\", data_type=wc.DataType.TEXT),\n",
    "    ]\n",
    ")\n",
    "\n",
    "print(\"Successfully created collection: Chunk.\")"
   ]
  },
  {
   "cell_type": "markdown",
   "metadata": {},
   "source": [
    "## Preprocessing the pdfs"
   ]
  },
  {
   "cell_type": "code",
   "execution_count": 9,
   "metadata": {},
   "outputs": [],
   "source": [
    "documents = load_documents()\n"
   ]
  },
  {
   "cell_type": "code",
   "execution_count": 10,
   "metadata": {},
   "outputs": [
    {
     "data": {
      "text/plain": [
       "172"
      ]
     },
     "execution_count": 10,
     "metadata": {},
     "output_type": "execute_result"
    }
   ],
   "source": [
    "len(documents)"
   ]
  },
  {
   "cell_type": "code",
   "execution_count": 11,
   "metadata": {},
   "outputs": [],
   "source": [
    "chunks = split_documents(documents)"
   ]
  },
  {
   "cell_type": "code",
   "execution_count": 12,
   "metadata": {},
   "outputs": [
    {
     "data": {
      "text/plain": [
       "({'source': '../../data/Galapagos/pdfs/CnE_GUI-CE-027 Guidance on Declaration of Interest (1).pdf',\n",
       "  'page': 0},\n",
       " 'Do you need to\\n(Also known as a Conflict of Interest)DECLARE AN INTEREST?\\nYou may need to declare an interest where a potential conflict arises…\\nA potential conflict of interest just means that your personal interests could conflict with your role and decisions at \\nGalapagos. \\nIt doesn’t mean that there is an actual conflict or that you’ve done anything wrong. In fact, conflicts are usually a \\nresult of good things — like having good relationships through friendships or investments. \\nBut they could also be perceived by someone else as impacting your judgment, or could harm the trust between \\ncolleagues, and that’s why we need to be aware of them so we can take any steps we need to manage them. \\nHere are some examples…\\nWhat should I do if I think I might need to declare an interest?')"
      ]
     },
     "execution_count": 12,
     "metadata": {},
     "output_type": "execute_result"
    }
   ],
   "source": [
    "chunks[0].metadata,chunks[0].page_content"
   ]
  },
  {
   "cell_type": "code",
   "execution_count": 13,
   "metadata": {},
   "outputs": [],
   "source": [
    "chunks = calculate_chunk_ids(chunks)"
   ]
  },
  {
   "cell_type": "code",
   "execution_count": 14,
   "metadata": {},
   "outputs": [
    {
     "data": {
      "text/plain": [
       "'../../data/Galapagos/pdfs/CnE_GUI-CE-027 Guidance on Declaration of Interest (1).pdf:0:0'"
      ]
     },
     "execution_count": 14,
     "metadata": {},
     "output_type": "execute_result"
    }
   ],
   "source": [
    "chunks[0].metadata['id']"
   ]
  },
  {
   "cell_type": "markdown",
   "metadata": {},
   "source": [
    "## Uploading the data"
   ]
  },
  {
   "cell_type": "code",
   "execution_count": 15,
   "metadata": {},
   "outputs": [],
   "source": [
    "data_json = []\n",
    "\n",
    "for chunk in chunks:\n",
    "    chunk_id = chunk.metadata['id']\n",
    "    chunk_content = chunk.page_content\n",
    "    db_doc_row = {\n",
    "        \"chunk_id\": chunk_id,\n",
    "        \"context\" : chunk_content\n",
    "    }\n",
    "    data_json.append(db_doc_row)"
   ]
  },
  {
   "cell_type": "code",
   "execution_count": 16,
   "metadata": {},
   "outputs": [
    {
     "name": "stdout",
     "output_type": "stream",
     "text": [
      "Insert complete.\n"
     ]
    }
   ],
   "source": [
    "\n",
    "chunk_collections = client.collections.get(\"Chunk\")\n",
    "\n",
    "# Insert data objects\n",
    "response = chunk_collections.data.insert_many(data_json)\n",
    "\n",
    "# However, if you have a milion objects to insert, then you should spit them into smaller batches (i.e. 100-1000 per insert)\n",
    "\n",
    "if (response.has_errors):\n",
    "    print(response.errors)\n",
    "else:\n",
    "    print(\"Insert complete.\")"
   ]
  },
  {
   "cell_type": "markdown",
   "metadata": {},
   "source": [
    "## Refining Ouput"
   ]
  },
  {
   "cell_type": "code",
   "execution_count": 17,
   "metadata": {},
   "outputs": [],
   "source": [
    "PROMPT_USER_TEMPLATE = \"\"\"\n",
    "Answer the question based only on the following context:\n",
    "\n",
    "Question :\n",
    "{question}\n",
    "\n",
    "\n",
    "Context :\n",
    "{context}\n",
    "\n",
    "\"\"\"\n",
    "\n",
    "SYSTEM_PROMPT = \"\"\"\n",
    "You are an ICF MCC certified coach who has a lot of experience with life coaching.\n",
    "You are give certain context and a question. Use the context and output an answer that is precise and clear.\n",
    "\n",
    "\"\"\""
   ]
  },
  {
   "cell_type": "code",
   "execution_count": 18,
   "metadata": {},
   "outputs": [],
   "source": [
    "USER_QUERY = \"How to behave in a meeting?\"\n",
    "RETREIVER_K = 5"
   ]
  },
  {
   "cell_type": "code",
   "execution_count": 19,
   "metadata": {},
   "outputs": [],
   "source": [
    "# Get text and embeddings\n",
    "EMBEDDING_MODEL_ENDPOINT = \"https://api.openai.com/v1/embeddings\"\n",
    "import os\n",
    "import openai\n",
    "from dotenv import load_dotenv\n",
    "load_dotenv()\n",
    "\n",
    "\n",
    "# Load environment variables\n",
    "OPENAI_ORG = os.getenv('OPENAI_ORG')\n",
    "OPENAI_APIKEY = os.getenv('OPENAI_APIKEY')\n",
    "\n",
    "openai.organization = OPENAI_ORG\n",
    "openai.api_key = OPENAI_APIKEY\n",
    "\n",
    "\n",
    "openai_client = openai.OpenAI(api_key=OPENAI_APIKEY)\n",
    "def get_embedding(text, model=EMBEDDING_MODEL):\n",
    "   text = text.replace(\"\\n\", \" \")\n",
    "   return openai_client.embeddings.create(input = [text], model=model).data[0].embedding\n"
   ]
  },
  {
   "cell_type": "code",
   "execution_count": 20,
   "metadata": {},
   "outputs": [],
   "source": [
    "response = chunk_collections.generate.near_vector(\n",
    "    near_vector=get_embedding(USER_QUERY),\n",
    "    include_vector=True,\n",
    "    limit=RETREIVER_K,\n",
    ")"
   ]
  },
  {
   "cell_type": "code",
   "execution_count": 21,
   "metadata": {},
   "outputs": [],
   "source": [
    "def combine_results(response):\n",
    "    result = \"\"\n",
    "    for item in response.objects:\n",
    "        result+=item.properties['context']+\"\\n\\n\"\n",
    "    return result"
   ]
  },
  {
   "cell_type": "code",
   "execution_count": 22,
   "metadata": {},
   "outputs": [],
   "source": [
    "related_context = combine_results(response)"
   ]
  },
  {
   "cell_type": "code",
   "execution_count": 23,
   "metadata": {},
   "outputs": [
    {
     "data": {
      "text/plain": [
       "'|   1ATTENDEES - Best meeting practices\\n•Decide if you are joining the meeting\\n\\uf0fcRSVP (respond) to the meeting organizer as soon as possible\\n•Prepare: read the agenda and the pre- work\\n\\uf0fccheck tasks from last meeting, prepare insights and /or questions\\n•Be on time\\n•Be present, participate and avoid distractions\\n\\uf0fcturn off notifications, put away your phone\\n•Make sure you are heard, even if your opinion is less popular \\n•Reflect: did I participate, and did I share my opinion?\\n•Provide feedback to the meeting organizer for potential improvement\\n•Read and review the minutes \\n•Check the follow -up tasks and act on yours\\nBefore\\nDuring\\nAfter\\n\\nTime Management tips for Effective Meetings\\n☑Respect other people’s time\\n|   1•respond to meeting invites as soon as you receive them\\n•reschedule timely to resolve meeting conflicts\\n•don’t be afraid to politely decline a meeting\\n(are you needed there? ask for an agenda, align expectations)\\n☑Save yourself some time\\n•share your calendar titles with your functional and TA teams\\n•book well in advance long, recurring, and team meetings\\n•respect time -zones and working hours, yours included!\\n\\n|   1ORGANIZERS - Best meeting practices\\n•Decide if you really need the meeting and select correct meeting type\\n•Define a clear and timed agenda, including the meeting objective\\n•Use the Outlook Scheduling Assistant to plan at an appropriate time\\n•Carefully choose the attendees, share the agenda and materials in advance\\n•Start by introducing people, stating the objective, and showing the agenda\\n•Assign note -taker and timekeeper, but record tasks yourself\\n•Moderate and ensure a safe space for everyone to get the word\\n•End meeting by summarizing the follow -up tasks for all attendees\\n•Share with all attendees the follow -up tasks and the meeting minutes\\n•Reflect: was the meeting goal achieved, and was everyone heard?\\n•Ensure follow -up and plan next meeting if necessary\\nBefore\\nDuring\\nAfter\\n\\nTips for engaging and inclusive meetings\\n☑Build trust and encourage participation\\n|   1•assign minutes -taker and time -keeper roles\\n•send the agenda (and pre -work) to the attendees in advance\\n•keep it focused and engaging\\n\\uf0d8be well -prepared to retain attendees’ attention \\n\\uf0d8keep the meeting as short as possible\\n\\uf0d8use polls, ratings, and whiteboards\\n\\uf0d8establish ground rules at the start of the meeting\\n•has everyone’s point of view been heard?\\n\\uf0d8ask questions to prompt discussion and listen actively\\n\\nCalendar Man agement tips for Effective Meetings\\n|   1☑Organ ize your calendar\\n•state your working hours (e.g. 09:00-1 7:00)\\n•change default meeting duration to 25’ instead of 30’\\n•book lunch and travel time as OOO\\n•book focus time as ‘tentative’ to avoid blocking your entire agenda\\n☑Organi ze y our calenda r for OOO days\\n•add public holidays for all major GLPG sites (single action)\\n•enter your vacation on Outlook well in advance\\n•reschedule (or decline) meetings happening during your absence\\n\\n'"
      ]
     },
     "execution_count": 23,
     "metadata": {},
     "output_type": "execute_result"
    }
   ],
   "source": [
    "related_context"
   ]
  },
  {
   "cell_type": "code",
   "execution_count": 24,
   "metadata": {},
   "outputs": [
    {
     "data": {
      "text/plain": [
       "\" \\n'|   1ATTENDEES - Best meeting practices\\n•Decide if you are joining the meeting\\n\\uf0fcRSVP (respond) to the meeting organizer as soon as possible\\n•Prepare: read the agenda and the pre- work\\n\\uf0fccheck tasks from last meeting, prepare insights and /or questions\\n•Be on time\\n•Be present, participate and avoid distractions\\n\\uf0fcturn off notifications, put away your phone\\n•Make sure you are heard, even if your opinion is less popular \\n•Reflect: did I participate, and did I share my opinion?\\n•Provide feedback to the meeting organizer for potential improvement\\n•Read and review the minutes \\n•Check the follow -up tasks and act on yours\\nBefore\\nDuring\\nAfter\\n\\nTime Management tips for Effective Meetings\\n☑Respect other people’s time\\n|   1•respond to meeting invites as soon as you receive them\\n•reschedule timely to resolve meeting conflicts\\n•don’t be afraid to politely decline a meeting\\n(are you needed there? ask for an agenda, align expectations)\\n☑Save yourself some time\\n•share your calendar titles with your functional and TA teams\\n•book well in advance long, recurring, and team meetings\\n•respect time -zones and working hours, yours included!\\n\\n|   1ORGANIZERS - Best meeting practices\\n•Decide if you really need the meeting and select correct meeting type\\n•Define a clear and timed agenda, including the meeting objective\\n•Use the Outlook Scheduling Assistant to plan at an appropriate time\\n•Carefully choose the attendees, share the agenda and materials in advance\\n•Start by introducing people, stating the objective, and showing the agenda\\n•Assign note -taker and timekeeper, but record tasks yourself\\n•Moderate and ensure a safe space for everyone to get the word\\n•End meeting by summarizing the follow -up tasks for all attendees\\n•Share with all attendees the follow -up tasks and the meeting minutes\\n•Reflect: was the meeting goal achieved, and was everyone heard?\\n•Ensure follow -up and plan next meeting if necessary\\nBefore\\nDuring\\nAfter\\n\\nTips for engaging and inclusive meetings\\n☑Build trust and encourage participation\\n|   1•assign minutes -taker and time -keeper roles\\n•send the agenda (and pre -work) to the attendees in advance\\n•keep it focused and engaging\\n\\uf0d8be well -prepared to retain attendees’ attention \\n\\uf0d8keep the meeting as short as possible\\n\\uf0d8use polls, ratings, and whiteboards\\n\\uf0d8establish ground rules at the start of the meeting\\n•has everyone’s point of view been heard?\\n\\uf0d8ask questions to prompt discussion and listen actively\\n\\nCalendar Man agement tips for Effective Meetings\\n|   1☑Organ ize your calendar\\n•state your working hours (e.g. 09:00-1 7:00)\\n•change default meeting duration to 25’ instead of 30’\\n•book lunch and travel time as OOO\\n•book focus time as ‘tentative’ to avoid blocking your entire agenda\\n☑Organi ze y our calenda r for OOO days\\n•add public holidays for all major GLPG sites (single action)\\n•enter your vacation on Outlook well in advance\\n•reschedule (or decline) meetings happening during your absence\\n\\n'\\n\""
      ]
     },
     "execution_count": 24,
     "metadata": {},
     "output_type": "execute_result"
    }
   ],
   "source": [
    "''' \n",
    "'|   1ATTENDEES - Best meeting practices\n",
    "•Decide if you are joining the meeting\n",
    "\\uf0fcRSVP (respond) to the meeting organizer as soon as possible\n",
    "•Prepare: read the agenda and the pre- work\n",
    "\\uf0fccheck tasks from last meeting, prepare insights and /or questions\n",
    "•Be on time\n",
    "•Be present, participate and avoid distractions\n",
    "\\uf0fcturn off notifications, put away your phone\n",
    "•Make sure you are heard, even if your opinion is less popular \n",
    "•Reflect: did I participate, and did I share my opinion?\n",
    "•Provide feedback to the meeting organizer for potential improvement\n",
    "•Read and review the minutes \n",
    "•Check the follow -up tasks and act on yours\n",
    "Before\n",
    "During\n",
    "After\n",
    "\n",
    "Time Management tips for Effective Meetings\n",
    "☑Respect other people’s time\n",
    "|   1•respond to meeting invites as soon as you receive them\n",
    "•reschedule timely to resolve meeting conflicts\n",
    "•don’t be afraid to politely decline a meeting\n",
    "(are you needed there? ask for an agenda, align expectations)\n",
    "☑Save yourself some time\n",
    "•share your calendar titles with your functional and TA teams\n",
    "•book well in advance long, recurring, and team meetings\n",
    "•respect time -zones and working hours, yours included!\n",
    "\n",
    "|   1ORGANIZERS - Best meeting practices\n",
    "•Decide if you really need the meeting and select correct meeting type\n",
    "•Define a clear and timed agenda, including the meeting objective\n",
    "•Use the Outlook Scheduling Assistant to plan at an appropriate time\n",
    "•Carefully choose the attendees, share the agenda and materials in advance\n",
    "•Start by introducing people, stating the objective, and showing the agenda\n",
    "•Assign note -taker and timekeeper, but record tasks yourself\n",
    "•Moderate and ensure a safe space for everyone to get the word\n",
    "•End meeting by summarizing the follow -up tasks for all attendees\n",
    "•Share with all attendees the follow -up tasks and the meeting minutes\n",
    "•Reflect: was the meeting goal achieved, and was everyone heard?\n",
    "•Ensure follow -up and plan next meeting if necessary\n",
    "Before\n",
    "During\n",
    "After\n",
    "\n",
    "Tips for engaging and inclusive meetings\n",
    "☑Build trust and encourage participation\n",
    "|   1•assign minutes -taker and time -keeper roles\n",
    "•send the agenda (and pre -work) to the attendees in advance\n",
    "•keep it focused and engaging\n",
    "\\uf0d8be well -prepared to retain attendees’ attention \n",
    "\\uf0d8keep the meeting as short as possible\n",
    "\\uf0d8use polls, ratings, and whiteboards\n",
    "\\uf0d8establish ground rules at the start of the meeting\n",
    "•has everyone’s point of view been heard?\n",
    "\\uf0d8ask questions to prompt discussion and listen actively\n",
    "\n",
    "Calendar Man agement tips for Effective Meetings\n",
    "|   1☑Organ ize your calendar\n",
    "•state your working hours (e.g. 09:00-1 7:00)\n",
    "•change default meeting duration to 25’ instead of 30’\n",
    "•book lunch and travel time as OOO\n",
    "•book focus time as ‘tentative’ to avoid blocking your entire agenda\n",
    "☑Organi ze y our calenda r for OOO days\n",
    "•add public holidays for all major GLPG sites (single action)\n",
    "•enter your vacation on Outlook well in advance\n",
    "•reschedule (or decline) meetings happening during your absence\n",
    "\n",
    "'\n",
    "'''"
   ]
  },
  {
   "cell_type": "code",
   "execution_count": 25,
   "metadata": {},
   "outputs": [],
   "source": [
    "prompt_query = PROMPT_USER_TEMPLATE.format(context=related_context, question=USER_QUERY)"
   ]
  },
  {
   "cell_type": "code",
   "execution_count": 26,
   "metadata": {},
   "outputs": [
    {
     "data": {
      "text/plain": [
       "\"To behave effectively in a meeting:\\n\\n- **RSVP promptly** to the meeting organizer.\\n- **Prepare by reading** the agenda and completing any pre-work, ensuring you check tasks from the last meeting and prepare insights or questions.\\n- **Be punctual.**\\n- **Be present and participate actively**, avoiding distractions by turning off notifications and putting away your phone.\\n- **Ensure your voice is heard**, even if your opinion is less popular.\\n- **Reflect on your participation** and whether you shared your opinion.\\n- **Provide feedback** to the meeting organizer for improvement.\\n- **Review the minutes** and follow up on assigned tasks.\\n\\nAdditionally, respect other people’s time by responding to invites promptly, and don't hesitate to reschedule or decline if necessary.\""
      ]
     },
     "execution_count": 26,
     "metadata": {},
     "output_type": "execute_result"
    }
   ],
   "source": [
    "MODEL = \"gpt-4o\"\n",
    "response_openai = openai_client.chat.completions.create(\n",
    "    model=MODEL,\n",
    "    messages=[\n",
    "        {\"role\": \"system\", \"content\": SYSTEM_PROMPT},\n",
    "        {\"role\": \"user\", \"content\": prompt_query}\n",
    "    ],\n",
    ")\n",
    "assistant_message = response_openai.choices[0].message.content\n",
    "tokens = response_openai.usage.total_tokens\n",
    "assistant_message"
   ]
  },
  {
   "cell_type": "code",
   "execution_count": 27,
   "metadata": {},
   "outputs": [
    {
     "data": {
      "text/plain": [
       "' \\nTo behave effectively in a meeting:\\n- RSVP to the meeting organizer promptly to confirm your attendance.\\n- Prepare by reading the agenda, completing any pre-work, and reviewing tasks from the last meeting.\\n- Arrive on time.\\n- Be fully present and participate actively; turn off notifications and put away your phone to avoid distractions.\\n- Ensure your voice is heard, even if your opinion is less popular.\\n- Reflect on your participation and whether you shared your opinion.\\n- Provide feedback to the meeting organizer for improvements.\\n- Review the meeting minutes afterward.\\n- Check and act on any follow-up tasks assigned to you.\\n'"
      ]
     },
     "execution_count": 27,
     "metadata": {},
     "output_type": "execute_result"
    }
   ],
   "source": [
    "''' \n",
    "\"To behave effectively in a meeting:\n",
    "\n",
    "- **RSVP promptly** to the meeting organizer.\n",
    "- **Prepare by reading** the agenda and completing any pre-work, ensuring you check tasks from the last meeting and prepare insights or questions.\n",
    "- **Be punctual.**\n",
    "- **Be present and participate actively**, avoiding distractions by turning off notifications and putting away your phone.\n",
    "- **Ensure your voice is heard**, even if your opinion is less popular.\n",
    "- **Reflect on your participation** and whether you shared your opinion.\n",
    "- **Provide feedback** to the meeting organizer for improvement.\n",
    "- **Review the minutes** and follow up on assigned tasks.\n",
    "Additionally, respect other people’s time by responding to invites promptly, and don't hesitate to reschedule or decline if necessary.\"\n",
    "'''"
   ]
  }
 ],
 "metadata": {
  "kernelspec": {
   "display_name": ".venv",
   "language": "python",
   "name": "python3"
  },
  "language_info": {
   "codemirror_mode": {
    "name": "ipython",
    "version": 3
   },
   "file_extension": ".py",
   "mimetype": "text/x-python",
   "name": "python",
   "nbconvert_exporter": "python",
   "pygments_lexer": "ipython3",
   "version": "3.11.9"
  }
 },
 "nbformat": 4,
 "nbformat_minor": 2
}
