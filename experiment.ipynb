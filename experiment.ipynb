{
 "cells": [
  {
   "cell_type": "code",
   "execution_count": 1,
   "metadata": {},
   "outputs": [],
   "source": [
    "import argparse\n",
    "import os\n",
    "import shutil\n",
    "from langchain.document_loaders.pdf import PyPDFDirectoryLoader\n",
    "from langchain_text_splitters import RecursiveCharacterTextSplitter\n",
    "from langchain.schema.document import Document\n",
    "from get_embedding_function import get_embedding_function\n",
    "from langchain.vectorstores.chroma import Chroma"
   ]
  },
  {
   "cell_type": "code",
   "execution_count": 2,
   "metadata": {},
   "outputs": [],
   "source": [
    "CHUNK_SIZE=800\n",
    "CHUNK_OVERLAP=80\n",
    "\n",
    "DATA_PATH = \"data/Galapagos/pdfs\"\n",
    "\n",
    "SIMILARITY_METRIC = \"cosine\" # l1/l2/cosine and negative inner product"
   ]
  },
  {
   "cell_type": "markdown",
   "metadata": {},
   "source": [
    "## Populate the database using the PDFS"
   ]
  },
  {
   "cell_type": "code",
   "execution_count": 3,
   "metadata": {},
   "outputs": [],
   "source": [
    "def load_documents():\n",
    "    document_loader = PyPDFDirectoryLoader(DATA_PATH)\n",
    "    return document_loader.load()\n",
    "\n",
    "def split_documents(documents: list[Document]):\n",
    "    text_splitter = RecursiveCharacterTextSplitter(\n",
    "        chunk_size=CHUNK_SIZE,\n",
    "        chunk_overlap=CHUNK_OVERLAP,\n",
    "        length_function=len,\n",
    "        is_separator_regex=False,\n",
    "    )\n",
    "    return text_splitter.split_documents(documents)\n",
    "\n",
    "\n",
    "def calculate_chunk_ids(chunks):\n",
    "\n",
    "    # This will create IDs like \"data/monopoly.pdf:6:2\"\n",
    "    # Page Source : Page Number : Chunk Index\n",
    "\n",
    "    last_page_id = None\n",
    "    current_chunk_index = 0\n",
    "\n",
    "    for chunk in chunks:\n",
    "        source = chunk.metadata.get(\"source\")\n",
    "        page = chunk.metadata.get(\"page\")\n",
    "        current_page_id = f\"{source}:{page}\"\n",
    "\n",
    "        # If the page ID is the same as the last one, increment the index.\n",
    "        if current_page_id == last_page_id:\n",
    "            current_chunk_index += 1\n",
    "        else:\n",
    "            current_chunk_index = 0\n",
    "\n",
    "        # Calculate the chunk ID.\n",
    "        chunk_id = f\"{current_page_id}:{current_chunk_index}\"\n",
    "        last_page_id = current_page_id\n",
    "\n",
    "        # Add it to the page meta-data.\n",
    "        chunk.metadata[\"id\"] = chunk_id\n",
    "\n",
    "    return chunks\n"
   ]
  },
  {
   "cell_type": "code",
   "execution_count": 4,
   "metadata": {},
   "outputs": [],
   "source": [
    "documents = load_documents()"
   ]
  },
  {
   "cell_type": "code",
   "execution_count": 5,
   "metadata": {},
   "outputs": [
    {
     "data": {
      "text/plain": [
       "164"
      ]
     },
     "execution_count": 5,
     "metadata": {},
     "output_type": "execute_result"
    }
   ],
   "source": [
    "len(documents)"
   ]
  },
  {
   "cell_type": "code",
   "execution_count": 6,
   "metadata": {},
   "outputs": [],
   "source": [
    "chunks = split_documents(documents)"
   ]
  },
  {
   "cell_type": "code",
   "execution_count": 7,
   "metadata": {},
   "outputs": [
    {
     "data": {
      "text/plain": [
       "494"
      ]
     },
     "execution_count": 7,
     "metadata": {},
     "output_type": "execute_result"
    }
   ],
   "source": [
    "len(chunks)"
   ]
  },
  {
   "cell_type": "code",
   "execution_count": 8,
   "metadata": {},
   "outputs": [
    {
     "data": {
      "text/plain": [
       "{'source': 'data/Galapagos/pdfs/CnE_GUI-CE-027 Guidance on Declaration of Interest (1).pdf',\n",
       " 'page': 0}"
      ]
     },
     "execution_count": 8,
     "metadata": {},
     "output_type": "execute_result"
    }
   ],
   "source": [
    "chunks[0].metadata"
   ]
  },
  {
   "cell_type": "code",
   "execution_count": 9,
   "metadata": {},
   "outputs": [
    {
     "data": {
      "text/plain": [
       "'Do you need to\\n(Also known as a Conflict of Interest)DECLARE AN INTEREST?\\nYou may need to declare an interest where a potential conflict arises…\\nA potential conflict of interest just means that your personal interests could conflict with your role and decisions at \\nGalapagos. \\nIt doesn’t mean that there is an actual conflict or that you’ve done anything wrong. In fact, conflicts are usually a \\nresult of good things — like having good relationships through friendships or investments. \\nBut they could also be perceived by someone else as impacting your judgment, or could harm the trust between \\ncolleagues, and that’s why we need to be aware of them so we can take any steps we need to manage them. \\nHere are some examples…\\nWhat should I do if I think I might need to declare an interest?'"
      ]
     },
     "execution_count": 9,
     "metadata": {},
     "output_type": "execute_result"
    }
   ],
   "source": [
    "chunks[0].page_content"
   ]
  },
  {
   "cell_type": "code",
   "execution_count": 10,
   "metadata": {},
   "outputs": [],
   "source": [
    "# Connect to DB\n",
    "\n",
    "import os\n",
    "import dotenv\n",
    "\n",
    "from sqlalchemy import Column, Integer, create_engine, Text\n",
    "from sqlalchemy.orm import declarative_base, Session\n",
    "from tidb_vector.sqlalchemy import VectorType\n",
    "\n",
    "from sqlalchemy import URL\n",
    "\n",
    "dotenv.load_dotenv()\n",
    "\n",
    "# Step 1: Connect to TiDB using SQLAlchemy.\n",
    "tidb_connection_string = URL(\n",
    "    \"mysql+pymysql\",\n",
    "    username=os.environ['TIDB_USERNAME'],\n",
    "    password=os.environ['TIDB_PASSWORD'],\n",
    "    host=os.environ['TIDB_HOST'],\n",
    "    port=4000,\n",
    "    database=\"test\",\n",
    "    query={\"ssl_verify_cert\": True, \"ssl_verify_identity\": True},\n",
    ")\n",
    "engine = create_engine(tidb_connection_string)\n",
    "\n",
    "# Step 2: Define a table with a vector column.\n",
    "Base = declarative_base()\n",
    "session = Session(engine)\n",
    "\n",
    "# Issue : https://stackoverflow.com/questions/454854/no-module-named-mysqldb"
   ]
  },
  {
   "cell_type": "code",
   "execution_count": 11,
   "metadata": {},
   "outputs": [],
   "source": [
    "# Create a Demo Class `RChunk` containing content and embedding and indexed\n",
    "\n",
    "class RChunk(Base):\n",
    "    __tablename__ = 'r_chunk'\n",
    "    id = Column(Integer, primary_key=True)\n",
    "    chunk_id = Column(Text)\n",
    "    content = Column(Text)\n",
    "    embedding = Column(VectorType(1536),comment=f\"hnsw(distance={SIMILARITY_METRIC})\")"
   ]
  },
  {
   "cell_type": "code",
   "execution_count": 12,
   "metadata": {},
   "outputs": [],
   "source": [
    "# Base.metadata.drop_all(engine)\n",
    "Base.metadata.create_all(engine)"
   ]
  },
  {
   "cell_type": "code",
   "execution_count": 13,
   "metadata": {},
   "outputs": [],
   "source": [
    "# Get text and embeddings\n",
    "EMBEDDING_MODEL_ENDPOINT = \"https://api.openai.com/v1/embeddings\"\n",
    "import os\n",
    "import openai\n",
    "from dotenv import load_dotenv\n",
    "load_dotenv()\n",
    "\n",
    "\n",
    "# Load environment variables\n",
    "OPENAI_ORG = os.getenv('OPENAI_ORG')\n",
    "OPENAI_APIKEY = os.getenv('OPENAI_APIKEY')\n",
    "\n",
    "openai.organization = OPENAI_ORG\n",
    "openai.api_key = OPENAI_APIKEY\n",
    "\n",
    "\n",
    "openai_client = openai.OpenAI(api_key=OPENAI_APIKEY)\n",
    "def get_embedding(text, model=\"text-embedding-ada-002\"):\n",
    "   text = text.replace(\"\\n\", \" \")\n",
    "   return openai_client.embeddings.create(input = [text], model=model).data[0].embedding"
   ]
  },
  {
   "cell_type": "code",
   "execution_count": 14,
   "metadata": {},
   "outputs": [],
   "source": [
    "def add_to_db(chunks: list[Document]):\n",
    "    # Calculate Page IDs.\n",
    "    chunks_with_ids = calculate_chunk_ids(chunks)\n",
    "    existing_ids = session.query(RChunk).with_entities(RChunk.chunk_id).all()\n",
    "\n",
    "    # Only add documents that don't exist in the DB.\n",
    "    new_chunks = []\n",
    "    for chunk in chunks_with_ids:\n",
    "        if chunk.metadata[\"id\"] not in existing_ids:\n",
    "            new_chunks.append(chunk)\n",
    "\n",
    "    if len(new_chunks):\n",
    "        print(f\"👉 Adding new documents: {len(new_chunks)}\")\n",
    "        for chunk in new_chunks:\n",
    "            session.add(RChunk(chunk_id=chunk.metadata['id'],content=chunk.page_content, embedding=get_embedding(chunk.page_content)))\n",
    "    else:\n",
    "        print(\"✅ No new documents to add\")\n",
    "    session.commit()\n"
   ]
  },
  {
   "cell_type": "code",
   "execution_count": 15,
   "metadata": {},
   "outputs": [],
   "source": [
    "# add_to_db(chunks=chunks) # Uncomment this if no db setup in 'tidb'\n",
    "# Might require modification to check for updates to the same document, or may be replace the document with a new name"
   ]
  },
  {
   "cell_type": "markdown",
   "metadata": {},
   "source": [
    "## Query Database"
   ]
  },
  {
   "cell_type": "code",
   "execution_count": 16,
   "metadata": {},
   "outputs": [],
   "source": [
    "USER_QUERY = \"How to behave during a meeting?\""
   ]
  },
  {
   "cell_type": "code",
   "execution_count": 17,
   "metadata": {},
   "outputs": [],
   "source": [
    "user_query_embedding = get_embedding(USER_QUERY)"
   ]
  },
  {
   "cell_type": "code",
   "execution_count": 18,
   "metadata": {},
   "outputs": [
    {
     "name": "stdout",
     "output_type": "stream",
     "text": [
      "  - distance: 0.13562019500389022\n",
      "    document: |   1ATTENDEES - Best meeting practices\n",
      "•Decide if you are joining the meeting\n",
      "RSVP (respond) to the meeting organizer as soon as possible\n",
      "•Prepare: read the agenda and the pre- work\n",
      "check tasks from last meeting, prepare insights and /or questions\n",
      "•Be on time\n",
      "•Be present, participate and avoid distractions\n",
      "turn off notifications, put away your phone\n",
      "•Make sure you are heard, even if your opinion is less popular \n",
      "•Reflect: did I participate, and did I share my opinion?\n",
      "•Provide feedback to the meeting organizer for potential improvement\n",
      "•Read and review the minutes \n",
      "•Check the follow -up tasks and act on yours\n",
      "Before\n",
      "During\n",
      "After\n",
      "  - distance: 0.14838117168087994\n",
      "    document: |   1ORGANIZERS - Best meeting practices\n",
      "•Decide if you really need the meeting and select correct meeting type\n",
      "•Define a clear and timed agenda, including the meeting objective\n",
      "•Use the Outlook Scheduling Assistant to plan at an appropriate time\n",
      "•Carefully choose the attendees, share the agenda and materials in advance\n",
      "•Start by introducing people, stating the objective, and showing the agenda\n",
      "•Assign note -taker and timekeeper, but record tasks yourself\n",
      "•Moderate and ensure a safe space for everyone to get the word\n",
      "•End meeting by summarizing the follow -up tasks for all attendees\n",
      "•Share with all attendees the follow -up tasks and the meeting minutes\n",
      "•Reflect: was the meeting goal achieved, and was everyone heard?\n",
      "•Ensure follow -up and plan next meeting if necessary\n",
      "Before\n",
      "During\n",
      "After\n",
      "  - distance: 0.15384535606001493\n",
      "    document: Tips for engaging and inclusive meetings\n",
      "☑Build trust and encourage participation\n",
      "|   1•assign minutes -taker and time -keeper roles\n",
      "•send the agenda (and pre -work) to the attendees in advance\n",
      "•keep it focused and engaging\n",
      "be well -prepared to retain attendees’ attention \n",
      "keep the meeting as short as possible\n",
      "use polls, ratings, and whiteboards\n",
      "establish ground rules at the start of the meeting\n",
      "•has everyone’s point of view been heard?\n",
      "ask questions to prompt discussion and listen actively\n",
      "  - distance: 0.1588243752719115\n",
      "    document: Time Management tips for Effective Meetings\n",
      "☑Respect other people’s time\n",
      "|   1•respond to meeting invites as soon as you receive them\n",
      "•reschedule timely to resolve meeting conflicts\n",
      "•don’t be afraid to politely decline a meeting\n",
      "(are you needed there? ask for an agenda, align expectations)\n",
      "☑Save yourself some time\n",
      "•share your calendar titles with your functional and TA teams\n",
      "•book well in advance long, recurring, and team meetings\n",
      "•respect time -zones and working hours, yours included!\n",
      "  - distance: 0.1634866268812304\n",
      "    document: Calendar Man agement tips for Effective Meetings\n",
      "|   1☑Organ ize your calendar\n",
      "•state your working hours (e.g. 09:00-1 7:00)\n",
      "•change default meeting duration to 25’ instead of 30’\n",
      "•book lunch and travel time as OOO\n",
      "•book focus time as ‘tentative’ to avoid blocking your entire agenda\n",
      "☑Organi ze y our calenda r for OOO days\n",
      "•add public holidays for all major GLPG sites (single action)\n",
      "•enter your vacation on Outlook well in advance\n",
      "•reschedule (or decline) meetings happening during your absence\n"
     ]
    }
   ],
   "source": [
    "# Get 3-nearest neighbor documents\n",
    "distance1 = RChunk.embedding.cosine_distance(user_query_embedding).label('distance')\n",
    "results1 = session.query(RChunk, distance1).order_by(distance1).limit(5).all()\n",
    "\n",
    "for doc, distance1 in results1:\n",
    "    print(f'  - distance: {distance1}\\n'\n",
    "            f'    document: {doc.content}')"
   ]
  },
  {
   "cell_type": "code",
   "execution_count": 19,
   "metadata": {},
   "outputs": [
    {
     "name": "stdout",
     "output_type": "stream",
     "text": [
      "  - distance: 0.13562019500389022\n",
      "    document: |   1ATTENDEES - Best meeting practices\n",
      "•Decide if you are joining the meeting\n",
      "RSVP (respond) to the meeting organizer as soon as possible\n",
      "•Prepare: read the agenda and the pre- work\n",
      "check tasks from last meeting, prepare insights and /or questions\n",
      "•Be on time\n",
      "•Be present, participate and avoid distractions\n",
      "turn off notifications, put away your phone\n",
      "•Make sure you are heard, even if your opinion is less popular \n",
      "•Reflect: did I participate, and did I share my opinion?\n",
      "•Provide feedback to the meeting organizer for potential improvement\n",
      "•Read and review the minutes \n",
      "•Check the follow -up tasks and act on yours\n",
      "Before\n",
      "During\n",
      "After\n",
      "  - distance: 0.14838117168087994\n",
      "    document: |   1ORGANIZERS - Best meeting practices\n",
      "•Decide if you really need the meeting and select correct meeting type\n",
      "•Define a clear and timed agenda, including the meeting objective\n",
      "•Use the Outlook Scheduling Assistant to plan at an appropriate time\n",
      "•Carefully choose the attendees, share the agenda and materials in advance\n",
      "•Start by introducing people, stating the objective, and showing the agenda\n",
      "•Assign note -taker and timekeeper, but record tasks yourself\n",
      "•Moderate and ensure a safe space for everyone to get the word\n",
      "•End meeting by summarizing the follow -up tasks for all attendees\n",
      "•Share with all attendees the follow -up tasks and the meeting minutes\n",
      "•Reflect: was the meeting goal achieved, and was everyone heard?\n",
      "•Ensure follow -up and plan next meeting if necessary\n",
      "Before\n",
      "During\n",
      "After\n",
      "  - distance: 0.15384535606001493\n",
      "    document: Tips for engaging and inclusive meetings\n",
      "☑Build trust and encourage participation\n",
      "|   1•assign minutes -taker and time -keeper roles\n",
      "•send the agenda (and pre -work) to the attendees in advance\n",
      "•keep it focused and engaging\n",
      "be well -prepared to retain attendees’ attention \n",
      "keep the meeting as short as possible\n",
      "use polls, ratings, and whiteboards\n",
      "establish ground rules at the start of the meeting\n",
      "•has everyone’s point of view been heard?\n",
      "ask questions to prompt discussion and listen actively\n",
      "  - distance: 0.1588243752719115\n",
      "    document: Time Management tips for Effective Meetings\n",
      "☑Respect other people’s time\n",
      "|   1•respond to meeting invites as soon as you receive them\n",
      "•reschedule timely to resolve meeting conflicts\n",
      "•don’t be afraid to politely decline a meeting\n",
      "(are you needed there? ask for an agenda, align expectations)\n",
      "☑Save yourself some time\n",
      "•share your calendar titles with your functional and TA teams\n",
      "•book well in advance long, recurring, and team meetings\n",
      "•respect time -zones and working hours, yours included!\n",
      "  - distance: 0.1634866268812304\n",
      "    document: Calendar Man agement tips for Effective Meetings\n",
      "|   1☑Organ ize your calendar\n",
      "•state your working hours (e.g. 09:00-1 7:00)\n",
      "•change default meeting duration to 25’ instead of 30’\n",
      "•book lunch and travel time as OOO\n",
      "•book focus time as ‘tentative’ to avoid blocking your entire agenda\n",
      "☑Organi ze y our calenda r for OOO days\n",
      "•add public holidays for all major GLPG sites (single action)\n",
      "•enter your vacation on Outlook well in advance\n",
      "•reschedule (or decline) meetings happening during your absence\n"
     ]
    }
   ],
   "source": [
    "# Get documents within a certain distance.\n",
    "distance2 = RChunk.embedding.cosine_distance(user_query_embedding).label('distance')\n",
    "results2 = session.query(\n",
    "    RChunk, distance2\n",
    ").filter(distance2 < 0.2).order_by(distance2).limit(5).all()\n",
    "\n",
    "for doc, distance2 in results2:\n",
    "    print(f'  - distance: {distance2}\\n'\n",
    "            f'    document: {doc.content}')\n"
   ]
  },
  {
   "cell_type": "code",
   "execution_count": 20,
   "metadata": {},
   "outputs": [],
   "source": [
    "results1_content = \"\"\n",
    "for chunk,distance in results1:\n",
    "    results1_content += chunk.content\n",
    "\n",
    "results2_content = \"\"\n",
    "for chunk,distance in results2:\n",
    "    results2_content += chunk.content"
   ]
  },
  {
   "cell_type": "code",
   "execution_count": 21,
   "metadata": {},
   "outputs": [
    {
     "data": {
      "text/plain": [
       "'|   1ATTENDEES - Best meeting practices\\n•Decide if you are joining the meeting\\n\\uf0fcRSVP (respond) to the meeting organizer as soon as possible\\n•Prepare: read the agenda and the pre- work\\n\\uf0fccheck tasks from last meeting, prepare insights and /or questions\\n•Be on time\\n•Be present, participate and avoid distractions\\n\\uf0fcturn off notifications, put away your phone\\n•Make sure you are heard, even if your opinion is less popular \\n•Reflect: did I participate, and did I share my opinion?\\n•Provide feedback to the meeting organizer for potential improvement\\n•Read and review the minutes \\n•Check the follow -up tasks and act on yours\\nBefore\\nDuring\\nAfter|   1ORGANIZERS - Best meeting practices\\n•Decide if you really need the meeting and select correct meeting type\\n•Define a clear and timed agenda, including the meeting objective\\n•Use the Outlook Scheduling Assistant to plan at an appropriate time\\n•Carefully choose the attendees, share the agenda and materials in advance\\n•Start by introducing people, stating the objective, and showing the agenda\\n•Assign note -taker and timekeeper, but record tasks yourself\\n•Moderate and ensure a safe space for everyone to get the word\\n•End meeting by summarizing the follow -up tasks for all attendees\\n•Share with all attendees the follow -up tasks and the meeting minutes\\n•Reflect: was the meeting goal achieved, and was everyone heard?\\n•Ensure follow -up and plan next meeting if necessary\\nBefore\\nDuring\\nAfterTips for engaging and inclusive meetings\\n☑Build trust and encourage participation\\n|   1•assign minutes -taker and time -keeper roles\\n•send the agenda (and pre -work) to the attendees in advance\\n•keep it focused and engaging\\n\\uf0d8be well -prepared to retain attendees’ attention \\n\\uf0d8keep the meeting as short as possible\\n\\uf0d8use polls, ratings, and whiteboards\\n\\uf0d8establish ground rules at the start of the meeting\\n•has everyone’s point of view been heard?\\n\\uf0d8ask questions to prompt discussion and listen activelyTime Management tips for Effective Meetings\\n☑Respect other people’s time\\n|   1•respond to meeting invites as soon as you receive them\\n•reschedule timely to resolve meeting conflicts\\n•don’t be afraid to politely decline a meeting\\n(are you needed there? ask for an agenda, align expectations)\\n☑Save yourself some time\\n•share your calendar titles with your functional and TA teams\\n•book well in advance long, recurring, and team meetings\\n•respect time -zones and working hours, yours included!Calendar Man agement tips for Effective Meetings\\n|   1☑Organ ize your calendar\\n•state your working hours (e.g. 09:00-1 7:00)\\n•change default meeting duration to 25’ instead of 30’\\n•book lunch and travel time as OOO\\n•book focus time as ‘tentative’ to avoid blocking your entire agenda\\n☑Organi ze y our calenda r for OOO days\\n•add public holidays for all major GLPG sites (single action)\\n•enter your vacation on Outlook well in advance\\n•reschedule (or decline) meetings happening during your absence'"
      ]
     },
     "execution_count": 21,
     "metadata": {},
     "output_type": "execute_result"
    }
   ],
   "source": [
    "results1_content"
   ]
  },
  {
   "cell_type": "code",
   "execution_count": 22,
   "metadata": {},
   "outputs": [
    {
     "data": {
      "text/plain": [
       "'|   1ATTENDEES - Best meeting practices\\n•Decide if you are joining the meeting\\n\\uf0fcRSVP (respond) to the meeting organizer as soon as possible\\n•Prepare: read the agenda and the pre- work\\n\\uf0fccheck tasks from last meeting, prepare insights and /or questions\\n•Be on time\\n•Be present, participate and avoid distractions\\n\\uf0fcturn off notifications, put away your phone\\n•Make sure you are heard, even if your opinion is less popular \\n•Reflect: did I participate, and did I share my opinion?\\n•Provide feedback to the meeting organizer for potential improvement\\n•Read and review the minutes \\n•Check the follow -up tasks and act on yours\\nBefore\\nDuring\\nAfter|   1ORGANIZERS - Best meeting practices\\n•Decide if you really need the meeting and select correct meeting type\\n•Define a clear and timed agenda, including the meeting objective\\n•Use the Outlook Scheduling Assistant to plan at an appropriate time\\n•Carefully choose the attendees, share the agenda and materials in advance\\n•Start by introducing people, stating the objective, and showing the agenda\\n•Assign note -taker and timekeeper, but record tasks yourself\\n•Moderate and ensure a safe space for everyone to get the word\\n•End meeting by summarizing the follow -up tasks for all attendees\\n•Share with all attendees the follow -up tasks and the meeting minutes\\n•Reflect: was the meeting goal achieved, and was everyone heard?\\n•Ensure follow -up and plan next meeting if necessary\\nBefore\\nDuring\\nAfterTips for engaging and inclusive meetings\\n☑Build trust and encourage participation\\n|   1•assign minutes -taker and time -keeper roles\\n•send the agenda (and pre -work) to the attendees in advance\\n•keep it focused and engaging\\n\\uf0d8be well -prepared to retain attendees’ attention \\n\\uf0d8keep the meeting as short as possible\\n\\uf0d8use polls, ratings, and whiteboards\\n\\uf0d8establish ground rules at the start of the meeting\\n•has everyone’s point of view been heard?\\n\\uf0d8ask questions to prompt discussion and listen activelyTime Management tips for Effective Meetings\\n☑Respect other people’s time\\n|   1•respond to meeting invites as soon as you receive them\\n•reschedule timely to resolve meeting conflicts\\n•don’t be afraid to politely decline a meeting\\n(are you needed there? ask for an agenda, align expectations)\\n☑Save yourself some time\\n•share your calendar titles with your functional and TA teams\\n•book well in advance long, recurring, and team meetings\\n•respect time -zones and working hours, yours included!Calendar Man agement tips for Effective Meetings\\n|   1☑Organ ize your calendar\\n•state your working hours (e.g. 09:00-1 7:00)\\n•change default meeting duration to 25’ instead of 30’\\n•book lunch and travel time as OOO\\n•book focus time as ‘tentative’ to avoid blocking your entire agenda\\n☑Organi ze y our calenda r for OOO days\\n•add public holidays for all major GLPG sites (single action)\\n•enter your vacation on Outlook well in advance\\n•reschedule (or decline) meetings happening during your absence'"
      ]
     },
     "execution_count": 22,
     "metadata": {},
     "output_type": "execute_result"
    }
   ],
   "source": [
    "results2_content"
   ]
  },
  {
   "cell_type": "markdown",
   "metadata": {},
   "source": [
    "## Refining Output"
   ]
  },
  {
   "cell_type": "code",
   "execution_count": 23,
   "metadata": {},
   "outputs": [],
   "source": [
    "PROMPT_USER_TEMPLATE = \"\"\"\n",
    "Answer the question based only on the following context:\n",
    "\n",
    "{question}\n",
    "{context}\n",
    "\n",
    "\"\"\"\n",
    "\n",
    "SYSTEM_PROMPT = \"\"\"\n",
    "You are an ICF MCC certified coach who has a lot of experience with life coaching.\n",
    "You are give certain context and a question. Use the context and output an answer that is precise and clear.\n",
    "\n",
    "\"\"\""
   ]
  },
  {
   "cell_type": "code",
   "execution_count": 24,
   "metadata": {},
   "outputs": [],
   "source": [
    "formatted_content1 = PROMPT_USER_TEMPLATE.format(context=results1_content, question=USER_QUERY)\n",
    "formatted_content2 = PROMPT_USER_TEMPLATE.format(context=results2_content, question=USER_QUERY)"
   ]
  },
  {
   "cell_type": "code",
   "execution_count": 25,
   "metadata": {},
   "outputs": [
    {
     "data": {
      "text/plain": [
       "'During a meeting, you should:\\n\\n- Be on time.\\n- Be present and participate actively.\\n- Avoid distractions by turning off notifications and putting away your phone.\\n- Ensure your opinions are heard, even if they are less popular.\\n- Reflect on your participation and whether you shared your opinion.\\n- Provide feedback to the meeting organizer for potential improvement.'"
      ]
     },
     "execution_count": 25,
     "metadata": {},
     "output_type": "execute_result"
    }
   ],
   "source": [
    "MODEL = \"gpt-4o\"\n",
    "client = openai.OpenAI(api_key=os.environ['OPENAI_APIKEY'])\n",
    "response = client.chat.completions.create(\n",
    "    model=MODEL,\n",
    "    messages=[\n",
    "        {\"role\": \"system\", \"content\": SYSTEM_PROMPT},\n",
    "        {\"role\": \"user\", \"content\": formatted_content1}\n",
    "    ],\n",
    ")\n",
    "assistant_message = response.choices[0].message.content\n",
    "tokens = response.usage.total_tokens\n",
    "assistant_message"
   ]
  },
  {
   "cell_type": "code",
   "execution_count": 26,
   "metadata": {},
   "outputs": [
    {
     "data": {
      "text/plain": [
       "\"During a meeting, your behavior should align with the following practices:\\n\\n- Be on time.\\n- Be present and participate actively while avoiding distractions (e.g., turn off notifications and put away your phone).\\n- Ensure your opinions are heard, even if they are less popular.\\n- Reflect on your participation and whether you've shared your opinion effectively.\\n- Provide feedback to the meeting organizer for potential improvement.\""
      ]
     },
     "execution_count": 26,
     "metadata": {},
     "output_type": "execute_result"
    }
   ],
   "source": [
    "response = client.chat.completions.create(\n",
    "    model=MODEL,\n",
    "    messages=[\n",
    "        {\"role\": \"system\", \"content\": SYSTEM_PROMPT},\n",
    "        {\"role\": \"user\", \"content\": formatted_content2}\n",
    "    ],\n",
    ")\n",
    "assistant_message = response.choices[0].message.content\n",
    "tokens = response.usage.total_tokens\n",
    "assistant_message"
   ]
  }
 ],
 "metadata": {
  "kernelspec": {
   "display_name": ".venv",
   "language": "python",
   "name": "python3"
  },
  "language_info": {
   "codemirror_mode": {
    "name": "ipython",
    "version": 3
   },
   "file_extension": ".py",
   "mimetype": "text/x-python",
   "name": "python",
   "nbconvert_exporter": "python",
   "pygments_lexer": "ipython3",
   "version": "3.11.9"
  }
 },
 "nbformat": 4,
 "nbformat_minor": 2
}
